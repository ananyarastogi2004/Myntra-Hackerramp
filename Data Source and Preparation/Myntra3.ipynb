{
  "nbformat": 4,
  "nbformat_minor": 0,
  "metadata": {
    "colab": {
      "provenance": []
    },
    "kernelspec": {
      "name": "python3",
      "display_name": "Python 3"
    },
    "language_info": {
      "name": "python"
    }
  },
  "cells": [
    {
      "cell_type": "code",
      "execution_count": null,
      "metadata": {
        "id": "0uCBaihjwGrs"
      },
      "outputs": [],
      "source": [
        "import pandas as pd\n",
        "import sqlite3\n",
        "\n",
        "# Load the CSV file into a DataFrame\n",
        "df = pd.read_csv('mini_dataset.csv')\n",
        "\n",
        "# Create a connection to the SQLite database\n",
        "conn = sqlite3.connect('mini_dataset.db')\n",
        "\n",
        "# Write the DataFrame to the SQLite database\n",
        "df.to_sql('products', conn, if_exists='replace', index=False)\n",
        "\n",
        "# Close the connection\n",
        "conn.close()\n"
      ]
    }
  ]
}